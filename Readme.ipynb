{
 "cells": [
  {
   "cell_type": "markdown",
   "id": "2fbeb5f6",
   "metadata": {},
   "source": [
    "Graph Classification(BBBP)\n",
    "---------------------------------------------\n",
    "\n",
    "\n",
    "The BBBP (Blood-Brain Barrier Penetration) \\cite{wu2018moleculenet} is another molecular dataset for graph classification tasks. The BBBP dataset includes binary labels for over 2000 compounds on their permeability properties, where the goal is to predict whether a compound can cross the blood-brain barrier based on its molecular features. \n",
    "\n",
    "The model consists of a series of GCN layers. Each GCN layer applies a graph convolution operation to the node features, enabling the model to learn local and global patterns in the graph structure. After the GCN layers, the model applies readout operations to aggregate node embeddings into graph-level embeddings, and their purpose is to capture the graph-level information from the node embeddings. Following the readout layers, the model uses a series of MLP layers to process the graph-level embeddings. The MLP layers are used to learn non-linear mappings from the graph-level embeddings to the final output space.\n",
    "\n",
    "\n",
    "## Evaluation\n",
    "|Dataset   |Model       |Epoch| Time-inference    | Test Accuracy      |\n",
    "|--        |--          |--   |---                |       --           |\n",
    "|Proteins  |HGP-SL      |100  |00.103 $\\pm$ 0.005  |  0.827 $\\pm$ 0.015 |\n",
    "\n",
    "\n",
    "### Requirements\n",
    "\n",
    "    python==3.10.6\n",
    "    dgl==1.1.2\n",
    "    pytorch==2.0.1+cpu\n",
    "    torch-scatter==2.1.1+pt20cpu\n",
    "    torch-sparse==0.6.17\n",
    "    torch-geometric==2.4.0"
   ]
  },
  {
   "cell_type": "code",
   "execution_count": null,
   "id": "a86996ae",
   "metadata": {},
   "outputs": [],
   "source": []
  }
 ],
 "metadata": {
  "kernelspec": {
   "display_name": "Python 3 (ipykernel)",
   "language": "python",
   "name": "python3"
  },
  "language_info": {
   "codemirror_mode": {
    "name": "ipython",
    "version": 3
   },
   "file_extension": ".py",
   "mimetype": "text/x-python",
   "name": "python",
   "nbconvert_exporter": "python",
   "pygments_lexer": "ipython3",
   "version": "3.10.6"
  }
 },
 "nbformat": 4,
 "nbformat_minor": 5
}
